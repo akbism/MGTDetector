{
  "nbformat": 4,
  "nbformat_minor": 0,
  "metadata": {
    "colab": {
      "provenance": []
    },
    "kernelspec": {
      "name": "python3",
      "display_name": "Python 3"
    },
    "language_info": {
      "name": "python"
    }
  },
  "cells": [
    {
      "cell_type": "markdown",
      "source": [
        "### This script is not completed and not used for any result in the research"
      ],
      "metadata": {
        "id": "IV8QuhZfry_7"
      }
    },
    {
      "cell_type": "code",
      "source": [
        "from google.colab import drive\n",
        "drive.mount('/content/gdrive')\n",
        "%cd /content/gdrive/My\\ Drive/Colab\\ Notebooks/GPT"
      ],
      "metadata": {
        "colab": {
          "base_uri": "https://localhost:8080/"
        },
        "id": "945fo_FvEaBo",
        "outputId": "398c4f11-b56b-42b5-f5b7-8a895c43bc3a"
      },
      "execution_count": null,
      "outputs": [
        {
          "output_type": "stream",
          "name": "stdout",
          "text": [
            "Mounted at /content/gdrive\n",
            "/content/gdrive/My Drive/Colab Notebooks/GPT\n"
          ]
        }
      ]
    },
    {
      "cell_type": "code",
      "execution_count": null,
      "metadata": {
        "id": "tFr6hUb5CGVb"
      },
      "outputs": [],
      "source": [
        "import pandas as pd\n",
        "import re\n",
        "from tqdm import tqdm, trange\n",
        "import json, os\n",
        "from collections import defaultdict\n",
        "import spacy\n",
        "from spacy import displacy\n",
        "from collections import Counter\n",
        "import en_core_web_sm\n",
        "nlp = en_core_web_sm.load()"
      ]
    },
    {
      "cell_type": "code",
      "source": [
        "df_all=pd.read_csv(\"actual_resultv1_resultv1_1.csv\")"
      ],
      "metadata": {
        "id": "HSj91SX5Ch42"
      },
      "execution_count": null,
      "outputs": []
    },
    {
      "cell_type": "code",
      "source": [
        "# df_all = df_all.rename(columns={\"desc_v1_1\": \"desc_v1\", \"desc_v1_1.1\": \"desc_v1_1\"})\n",
        "# df_all.to_csv(\"actual_resultv1_resultv1_1.csv\", index=False)\n",
        "# df_all"
      ],
      "metadata": {
        "id": "CWc2Ou60FRzg"
      },
      "execution_count": null,
      "outputs": []
    },
    {
      "cell_type": "code",
      "source": [
        "with open(\"./chatgpt-generated-text-detection-corpus/full_texts/questions.txt\") as f:\n",
        "    questions = f.readlines()"
      ],
      "metadata": {
        "id": "usyOw4e8Wfuk"
      },
      "execution_count": null,
      "outputs": []
    },
    {
      "cell_type": "code",
      "source": [
        "questions[110]"
      ],
      "metadata": {
        "colab": {
          "base_uri": "https://localhost:8080/",
          "height": 52
        },
        "id": "h_zUY9R5Gc2Q",
        "outputId": "9c621c3c-bbf9-4dc4-dab6-40dc65a085a1"
      },
      "execution_count": null,
      "outputs": [
        {
          "output_type": "execute_result",
          "data": {
            "text/plain": [
              "'124) Do you agree or disagree with the following statement? People are never satisfied with what they have; they always want something more or something different. Use specific reasons to support your answer.\\n'"
            ],
            "application/vnd.google.colaboratory.intrinsic+json": {
              "type": "string"
            }
          },
          "metadata": {},
          "execution_count": 25
        }
      ]
    },
    {
      "cell_type": "code",
      "source": [
        "# ### Read all files from the folder and save to chatgpt_human_combined.csv\n",
        "questions = pd.read_table(\"./chatgpt-generated-text-detection-corpus/full_texts/questions.txt\", header=None)\n",
        "questions['sr_no'] = questions[0].map(lambda x: re.findall(r\"^[0-9]{1,3}\" , x)[0].strip())\n",
        "questions['question'] = questions[0].map(lambda x: re.split(r\"^[0-9]{1,3}\\) \" , x)[1].strip())\n",
        "questions=questions[['sr_no','question']]"
      ],
      "metadata": {
        "id": "kvXPxctUXKTo"
      },
      "execution_count": null,
      "outputs": []
    },
    {
      "cell_type": "code",
      "source": [
        "questions"
      ],
      "metadata": {
        "colab": {
          "base_uri": "https://localhost:8080/",
          "height": 423
        },
        "id": "wQAbdR_gYYpy",
        "outputId": "768c5640-f5dc-41e2-d98c-44239e53ed7d"
      },
      "execution_count": null,
      "outputs": [
        {
          "output_type": "execute_result",
          "data": {
            "text/plain": [
              "    sr_no                                           question\n",
              "0       2  Why do you think people attend college or univ...\n",
              "1       3  Do you agree or disagree with the following st...\n",
              "2       5  It has been said, “Not everything that is lear...\n",
              "3       6  A company has announced that it wishes to buil...\n",
              "4       7  If you could change one important thing about ...\n",
              "..    ...                                                ...\n",
              "121   149  Imagine that you have received some land to us...\n",
              "122   151  What is the most important animal in your coun...\n",
              "123   152  Many parts of the world are losing important n...\n",
              "124   163  Is the ability to read and write more importan...\n",
              "125   176  Holidays honor people or events. If you could ...\n",
              "\n",
              "[126 rows x 2 columns]"
            ],
            "text/html": [
              "\n",
              "  <div id=\"df-c79ce9a5-0c05-4a06-8cd9-10c121f342b0\">\n",
              "    <div class=\"colab-df-container\">\n",
              "      <div>\n",
              "<style scoped>\n",
              "    .dataframe tbody tr th:only-of-type {\n",
              "        vertical-align: middle;\n",
              "    }\n",
              "\n",
              "    .dataframe tbody tr th {\n",
              "        vertical-align: top;\n",
              "    }\n",
              "\n",
              "    .dataframe thead th {\n",
              "        text-align: right;\n",
              "    }\n",
              "</style>\n",
              "<table border=\"1\" class=\"dataframe\">\n",
              "  <thead>\n",
              "    <tr style=\"text-align: right;\">\n",
              "      <th></th>\n",
              "      <th>sr_no</th>\n",
              "      <th>question</th>\n",
              "    </tr>\n",
              "  </thead>\n",
              "  <tbody>\n",
              "    <tr>\n",
              "      <th>0</th>\n",
              "      <td>2</td>\n",
              "      <td>Why do you think people attend college or univ...</td>\n",
              "    </tr>\n",
              "    <tr>\n",
              "      <th>1</th>\n",
              "      <td>3</td>\n",
              "      <td>Do you agree or disagree with the following st...</td>\n",
              "    </tr>\n",
              "    <tr>\n",
              "      <th>2</th>\n",
              "      <td>5</td>\n",
              "      <td>It has been said, “Not everything that is lear...</td>\n",
              "    </tr>\n",
              "    <tr>\n",
              "      <th>3</th>\n",
              "      <td>6</td>\n",
              "      <td>A company has announced that it wishes to buil...</td>\n",
              "    </tr>\n",
              "    <tr>\n",
              "      <th>4</th>\n",
              "      <td>7</td>\n",
              "      <td>If you could change one important thing about ...</td>\n",
              "    </tr>\n",
              "    <tr>\n",
              "      <th>...</th>\n",
              "      <td>...</td>\n",
              "      <td>...</td>\n",
              "    </tr>\n",
              "    <tr>\n",
              "      <th>121</th>\n",
              "      <td>149</td>\n",
              "      <td>Imagine that you have received some land to us...</td>\n",
              "    </tr>\n",
              "    <tr>\n",
              "      <th>122</th>\n",
              "      <td>151</td>\n",
              "      <td>What is the most important animal in your coun...</td>\n",
              "    </tr>\n",
              "    <tr>\n",
              "      <th>123</th>\n",
              "      <td>152</td>\n",
              "      <td>Many parts of the world are losing important n...</td>\n",
              "    </tr>\n",
              "    <tr>\n",
              "      <th>124</th>\n",
              "      <td>163</td>\n",
              "      <td>Is the ability to read and write more importan...</td>\n",
              "    </tr>\n",
              "    <tr>\n",
              "      <th>125</th>\n",
              "      <td>176</td>\n",
              "      <td>Holidays honor people or events. If you could ...</td>\n",
              "    </tr>\n",
              "  </tbody>\n",
              "</table>\n",
              "<p>126 rows × 2 columns</p>\n",
              "</div>\n",
              "      <button class=\"colab-df-convert\" onclick=\"convertToInteractive('df-c79ce9a5-0c05-4a06-8cd9-10c121f342b0')\"\n",
              "              title=\"Convert this dataframe to an interactive table.\"\n",
              "              style=\"display:none;\">\n",
              "        \n",
              "  <svg xmlns=\"http://www.w3.org/2000/svg\" height=\"24px\"viewBox=\"0 0 24 24\"\n",
              "       width=\"24px\">\n",
              "    <path d=\"M0 0h24v24H0V0z\" fill=\"none\"/>\n",
              "    <path d=\"M18.56 5.44l.94 2.06.94-2.06 2.06-.94-2.06-.94-.94-2.06-.94 2.06-2.06.94zm-11 1L8.5 8.5l.94-2.06 2.06-.94-2.06-.94L8.5 2.5l-.94 2.06-2.06.94zm10 10l.94 2.06.94-2.06 2.06-.94-2.06-.94-.94-2.06-.94 2.06-2.06.94z\"/><path d=\"M17.41 7.96l-1.37-1.37c-.4-.4-.92-.59-1.43-.59-.52 0-1.04.2-1.43.59L10.3 9.45l-7.72 7.72c-.78.78-.78 2.05 0 2.83L4 21.41c.39.39.9.59 1.41.59.51 0 1.02-.2 1.41-.59l7.78-7.78 2.81-2.81c.8-.78.8-2.07 0-2.86zM5.41 20L4 18.59l7.72-7.72 1.47 1.35L5.41 20z\"/>\n",
              "  </svg>\n",
              "      </button>\n",
              "      \n",
              "  <style>\n",
              "    .colab-df-container {\n",
              "      display:flex;\n",
              "      flex-wrap:wrap;\n",
              "      gap: 12px;\n",
              "    }\n",
              "\n",
              "    .colab-df-convert {\n",
              "      background-color: #E8F0FE;\n",
              "      border: none;\n",
              "      border-radius: 50%;\n",
              "      cursor: pointer;\n",
              "      display: none;\n",
              "      fill: #1967D2;\n",
              "      height: 32px;\n",
              "      padding: 0 0 0 0;\n",
              "      width: 32px;\n",
              "    }\n",
              "\n",
              "    .colab-df-convert:hover {\n",
              "      background-color: #E2EBFA;\n",
              "      box-shadow: 0px 1px 2px rgba(60, 64, 67, 0.3), 0px 1px 3px 1px rgba(60, 64, 67, 0.15);\n",
              "      fill: #174EA6;\n",
              "    }\n",
              "\n",
              "    [theme=dark] .colab-df-convert {\n",
              "      background-color: #3B4455;\n",
              "      fill: #D2E3FC;\n",
              "    }\n",
              "\n",
              "    [theme=dark] .colab-df-convert:hover {\n",
              "      background-color: #434B5C;\n",
              "      box-shadow: 0px 1px 3px 1px rgba(0, 0, 0, 0.15);\n",
              "      filter: drop-shadow(0px 1px 2px rgba(0, 0, 0, 0.3));\n",
              "      fill: #FFFFFF;\n",
              "    }\n",
              "  </style>\n",
              "\n",
              "      <script>\n",
              "        const buttonEl =\n",
              "          document.querySelector('#df-c79ce9a5-0c05-4a06-8cd9-10c121f342b0 button.colab-df-convert');\n",
              "        buttonEl.style.display =\n",
              "          google.colab.kernel.accessAllowed ? 'block' : 'none';\n",
              "\n",
              "        async function convertToInteractive(key) {\n",
              "          const element = document.querySelector('#df-c79ce9a5-0c05-4a06-8cd9-10c121f342b0');\n",
              "          const dataTable =\n",
              "            await google.colab.kernel.invokeFunction('convertToInteractive',\n",
              "                                                     [key], {});\n",
              "          if (!dataTable) return;\n",
              "\n",
              "          const docLinkHtml = 'Like what you see? Visit the ' +\n",
              "            '<a target=\"_blank\" href=https://colab.research.google.com/notebooks/data_table.ipynb>data table notebook</a>'\n",
              "            + ' to learn more about interactive tables.';\n",
              "          element.innerHTML = '';\n",
              "          dataTable['output_type'] = 'display_data';\n",
              "          await google.colab.output.renderOutput(dataTable, element);\n",
              "          const docLink = document.createElement('div');\n",
              "          docLink.innerHTML = docLinkHtml;\n",
              "          element.appendChild(docLink);\n",
              "        }\n",
              "      </script>\n",
              "    </div>\n",
              "  </div>\n",
              "  "
            ]
          },
          "metadata": {},
          "execution_count": 31
        }
      ]
    },
    {
      "cell_type": "code",
      "source": [
        "####DEVELOPMENT PREPROCESSING\n",
        "development_features = {}\n",
        "development_labels = {}\n",
        "\n",
        "for x in tqdm(df_all['text']):\n",
        "  context=x\n",
        "  doc = nlp(context)\n",
        "  labels = [x.label_ for x in doc.ents]\n",
        "  features = defaultdict(int)\n",
        "  features = Counter(labels)\n",
        "  questions = {}\n",
        "  for q in p['qas']:\n",
        "      qid = q['id']\n",
        "      questions[qid] = {q['question']:q['is_impossible']}\n",
        "      words = nltk.word_tokenize(q['question'])\n",
        "      features['what'] = int(any((True for word in words if word.lower() == \"what\")))\n",
        "      features['when'] = int(any((True for word in words if word.lower() == \"when\")))\n",
        "      features['where'] = int(any((True for word in words if word.lower() == \"where\")))\n",
        "      features['how'] = int(any((True for word in words if word.lower() == \"how\")))\n",
        "      features['many'] = int(any((True for word in words if word.lower() == \"many\")))\n",
        "      features['why'] = int(any((True for word in words if word.lower() == \"why\")))\n",
        "      features['who'] = int(any((True for word in words if word.lower() == \"who\")))\n",
        "\n",
        "      tagged = nltk.pos_tag(words)\n",
        "      percentPronouns = 0\n",
        "      percentNouns = 0\n",
        "      percentNumbers = 0\n",
        "      #print(tagged)\n",
        "      properNouns = [word for word,pos in tagged if pos == 'NNP']\n",
        "      numPN = len(properNouns)\n",
        "      countPN = 0\n",
        "      if numPN > 0:\n",
        "          for pn in properNouns:\n",
        "              if pn in context:\n",
        "                  countPN = countPN + 1\n",
        "          percentPronouns = float(countPN)/numPN\n",
        "\n",
        "      nouns = [word for word,pos in tagged if pos == 'NN']\n",
        "      numNN = len(nouns)\n",
        "      countNN = 0\n",
        "      if numNN > 0:\n",
        "          for nn in nouns:\n",
        "              if nn in context:\n",
        "                  countNN = countNN + 1\n",
        "          percentNouns = float(countNN)/numNN\n",
        "\n",
        "      numbers = [word for word,pos in tagged if pos == 'CD']\n",
        "      numNumbers = len(numbers)\n",
        "      countNumbers = 0\n",
        "      if numNumbers > 0:\n",
        "          for num in numbers:\n",
        "              if num in context:\n",
        "                  countNumbers = countNumbers + 1\n",
        "          percentNumbers = float(countNumbers)/numNumbers\n",
        "\n",
        "      features['percentage NNP'] = percentPronouns\n",
        "      features['percentage NN'] = percentNouns\n",
        "      features['percentage CD'] = percentNumbers\n",
        "\n",
        "      feature_vector = []\n",
        "      for i in feats:\n",
        "          feature_vector.append(features[i])\n",
        "      development_features[qid] = feature_vector\n",
        "      development_labels[qid] = int(q['is_impossible'])\n",
        "  development_dict[context] = questions\n",
        "\n",
        "\n",
        "with open('development_features.json', 'w') as fp:\n",
        "    json.dump(development_features, fp)\n",
        "with open('development_labels.json', 'w') as fp:\n",
        "    json.dump(development_labels, fp)"
      ],
      "metadata": {
        "id": "OtGikWb_Ch2m"
      },
      "execution_count": null,
      "outputs": []
    }
  ]
}
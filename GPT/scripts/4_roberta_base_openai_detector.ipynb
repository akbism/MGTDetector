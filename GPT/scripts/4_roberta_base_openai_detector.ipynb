{
  "nbformat": 4,
  "nbformat_minor": 0,
  "metadata": {
    "colab": {
      "provenance": []
    },
    "kernelspec": {
      "name": "python3",
      "display_name": "Python 3"
    },
    "language_info": {
      "name": "python"
    }
  },
  "cells": [
    {
      "cell_type": "code",
      "source": [
        "!pip install transformers\n",
        "!pip install eli5"
      ],
      "metadata": {
        "id": "OyE7BH_WlU8A"
      },
      "execution_count": null,
      "outputs": []
    },
    {
      "cell_type": "code",
      "source": [
        "from google.colab import drive\n",
        "drive.mount('/content/gdrive')\n",
        "%cd /content/gdrive/My\\ Drive/Colab\\ Notebooks/GPT"
      ],
      "metadata": {
        "colab": {
          "base_uri": "https://localhost:8080/"
        },
        "id": "C2sC9ZK0S1jb",
        "outputId": "0b8a3edd-9137-456e-c4d8-3e440c39d779"
      },
      "execution_count": null,
      "outputs": [
        {
          "output_type": "stream",
          "name": "stdout",
          "text": [
            "Mounted at /content/gdrive\n",
            "/content/gdrive/My Drive/Colab Notebooks/GPT\n"
          ]
        }
      ]
    },
    {
      "cell_type": "code",
      "execution_count": null,
      "metadata": {
        "id": "THIpeg3ylPFY"
      },
      "outputs": [],
      "source": [
        "# Import generic wrappers\n",
        "from transformers import AutoModel, AutoTokenizer , AutoModelForSequenceClassification, pipeline\n",
        "import numpy as np\n",
        "import pandas as pd\n",
        "\n",
        "### Provide the input file name\n",
        "input_text_file = \"DagPap22_Corpus.csv\"\n",
        "\n",
        "# Define the model repo\n",
        "model_name = \"roberta-base-openai-detector\"\n",
        "\n",
        "# Download pytorch model\n",
        "model = AutoModelForSequenceClassification.from_pretrained(model_name)\n",
        "tokenizer = AutoTokenizer.from_pretrained(model_name)"
      ]
    },
    {
      "cell_type": "code",
      "source": [
        "df_combined = pd.read_csv(input_text_file)\n",
        "df_delta=pd.DataFrame(columns=['label', 'score'])\n",
        "for txt in df_combined['text']:\n",
        "  pred_pipeline  = pipeline(\"text-classification\", model=\"roberta-base-openai-detector\")\n",
        "  # print(len(my_pipeline.tokenizer.tokenize(input_text)))\n",
        "  df_delta=df_delta.append(pred_pipeline(txt, truncation=True))"
      ],
      "metadata": {
        "id": "CU0QixPCVPWz"
      },
      "execution_count": null,
      "outputs": []
    },
    {
      "cell_type": "code",
      "source": [
        "print(df_delta.shape)\n",
        "print(df_combined.shape)"
      ],
      "metadata": {
        "colab": {
          "base_uri": "https://localhost:8080/"
        },
        "id": "mhwVYWRJWDxL",
        "outputId": "ef4eff86-916b-4595-d5a3-41a7bdd6c407"
      },
      "execution_count": null,
      "outputs": [
        {
          "output_type": "stream",
          "name": "stdout",
          "text": [
            "(232, 2)\n",
            "(232, 6)\n"
          ]
        }
      ]
    },
    {
      "cell_type": "code",
      "source": [
        "df_combined.reset_index(drop=True, inplace=True)\n",
        "df_delta.reset_index(drop=True, inplace=True)\n",
        "df_final= pd.concat([df_combined, df_delta], axis=1)\n",
        "df_final['label'] = df_final['label'].map({'Fake':'chatgpt', 'Real':'human'})"
      ],
      "metadata": {
        "id": "lu9IvR-8bV5u"
      },
      "execution_count": null,
      "outputs": []
    },
    {
      "cell_type": "code",
      "source": [
        "from sklearn.metrics import accuracy_score, classification_report, confusion_matrix\n",
        "print(classification_report(df_combined['source'], df_final['label']))\n",
        "print(confusion_matrix(df_combined['source'], df_final['label']))"
      ],
      "metadata": {
        "id": "v8qYp-bta2vl"
      },
      "execution_count": null,
      "outputs": []
    },
    {
      "cell_type": "code",
      "source": [
        "df_final.to_csv(\"DagPap22_Corpus_roberta_predictions.csv\")"
      ],
      "metadata": {
        "id": "fcNxEg7kbz8F"
      },
      "execution_count": null,
      "outputs": []
    }
  ]
}